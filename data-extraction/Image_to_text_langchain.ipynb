{
 "cells": [
  {
   "cell_type": "code",
   "execution_count": null,
   "id": "ebb1c89d-3f66-4c8e-956a-d8bd374a8755",
   "metadata": {
    "collapsed": true,
    "jupyter": {
     "outputs_hidden": true
    },
    "tags": []
   },
   "outputs": [],
   "source": [
    "!pip install langchain-groq\n",
    "!pip install openai\n",
    "\n",
    "!pip install langchain-google-genai\n",
    "!pip install langchain-core \n",
    "!pip install langchain\n",
    "!pip install langchain-community"
   ]
  },
  {
   "cell_type": "code",
   "execution_count": null,
   "id": "f9f0035d",
   "metadata": {},
   "outputs": [],
   "source": [
    "!pip install langchain-openai"
   ]
  },
  {
   "cell_type": "code",
   "execution_count": null,
   "id": "677a9fd8-4ca1-46a6-b27f-6a1642d2a1bb",
   "metadata": {
    "tags": []
   },
   "outputs": [],
   "source": [
    "from langchain_core.prompts import ChatPromptTemplate\n",
    "from langchain_groq import ChatGroq\n",
    "from langchain_openai import ChatOpenAI\n",
    "import inspect\n",
    "\n",
    "# Processing the AIMesaage and converting it to human Message\n",
    "\n",
    "from langchain_core.messages.ai import AIMessage\n",
    "from langchain_core.messages.human import HumanMessage\n",
    "from langchain_core.output_parsers import StrOutputParser"
   ]
  },
  {
   "cell_type": "markdown",
   "id": "86340705-dff0-4c27-8531-b57b33457372",
   "metadata": {},
   "source": [
    "## Using Zhipuai library ---- CogVLM2"
   ]
  },
  {
   "cell_type": "code",
   "execution_count": null,
   "id": "9dd2fc30-90d2-45b0-9379-8b670f29f326",
   "metadata": {
    "collapsed": true,
    "jupyter": {
     "outputs_hidden": true
    },
    "tags": []
   },
   "outputs": [],
   "source": [
    "!pip install zhipuai"
   ]
  },
  {
   "cell_type": "code",
   "execution_count": null,
   "id": "f5295248-93d3-4fec-8523-2dd6f6be62f6",
   "metadata": {
    "collapsed": true,
    "jupyter": {
     "outputs_hidden": true
    },
    "tags": []
   },
   "outputs": [],
   "source": [
    "from zhipuai import ZhipuAI\n",
    "client = ZhipuAI(api_key=\"<----Your API Key---->\")\n",
    "\n",
    "response = client.chat.completions.create(\n",
    "    model=\"glm-4v\",\n",
    "    messages=[\n",
    "    {\n",
    "      \"role\": \"user\",\n",
    "      \"content\": [\n",
    "        {\"type\": \"text\", \"text\": \"What’s in this image?\"},\n",
    "        {\n",
    "          \"type\": \"image_url\",\n",
    "          \"image_url\": {\n",
    "            \"url\": \"https://upload.wikimedia.org/wikipedia/commons/thumb/d/dd/Gfp-wisconsin-madison-the-nature-boardwalk.jpg/2560px-Gfp-wisconsin-madison-the-nature-boardwalk.jpg\",\n",
    "          },\n",
    "        },\n",
    "      ],\n",
    "    }\n",
    "  ],\n",
    ")\n",
    "print(response.choices[0].message)"
   ]
  },
  {
   "cell_type": "markdown",
   "id": "259cad13-a311-4f58-9937-513987b2090e",
   "metadata": {},
   "source": [
    "### Using OpenAI library "
   ]
  },
  {
   "cell_type": "code",
   "execution_count": null,
   "id": "3f6ee5fe-fd2d-4211-b734-b5661629b782",
   "metadata": {
    "tags": []
   },
   "outputs": [],
   "source": [
    "from openai import OpenAI\n",
    "\n",
    "client = OpenAI(api_key=api_key)\n",
    "\n",
    "response = client.chat.completions.create(\n",
    "  model=\"gpt-4o\",\n",
    "  messages=[\n",
    "    {\n",
    "      \"role\": \"user\",\n",
    "      \"content\": [\n",
    "        {\"type\": \"text\", \"text\": \"What’s in this image?\"},\n",
    "        {\n",
    "          \"type\": \"image_url\",\n",
    "          \"image_url\": {\n",
    "            \"url\": \"https://upload.wikimedia.org/wikipedia/commons/thumb/d/dd/Gfp-wisconsin-madison-the-nature-boardwalk.jpg/2560px-Gfp-wisconsin-madison-the-nature-boardwalk.jpg\",\n",
    "          },\n",
    "        },\n",
    "      ],\n",
    "    }\n",
    "  ],\n",
    "  max_tokens=300,\n",
    ")\n",
    "\n",
    "print(response.choices[0])"
   ]
  },
  {
   "cell_type": "markdown",
   "id": "70eef118-d429-42ad-9b5e-7f477c08d4e9",
   "metadata": {},
   "source": [
    "## Using Langchain performing single image to text"
   ]
  },
  {
   "cell_type": "code",
   "execution_count": null,
   "id": "00e06a5e-3a64-4a63-9202-5f9efa44bce9",
   "metadata": {
    "tags": []
   },
   "outputs": [],
   "source": [
    "############ Using Llama3 ##################\n",
    "\n",
    "#groq_api_key=\"<----Your API Key---->\"\n",
    "#model_name=\"llama3-70b-8192\"\n",
    "\n",
    "############ Using Gemini ##################\n",
    "\n",
    "#google_api_key=\"<----Your API Key---->\"\n",
    "#model_name=\"gemini-pro\"\n",
    "\n",
    "############ Using Openai ##################\n",
    "\n",
    "#Using Openai\n",
    "model_name=\"gpt-4o\"\n",
    "#openaikey\n",
    "api_key=\"<----Your API Key---->\"\n",
    "\n",
    "\n",
    "############ Using Openai ##################\n",
    "model_name=\"gpt-4o\"\n",
    "api_key=\"<----Your API Key---->\"\n",
    "base_url=\"https://api.theb.ai/v1\"\n",
    "\n",
    "############ Using Azure Openai ###############\n",
    "azure_openai_api_version='2024-02-15-preview'\n",
    "azure_deployment='gpt-4o'\n",
    "azure_openai_api_key ='<----Your API key------>'\n",
    "azure_endpoint='<----Your Studio endpoint------>'"
   ]
  },
  {
   "cell_type": "code",
   "execution_count": null,
   "id": "aa6e1b18-2df7-4f9e-b543-ed3dcfc7c812",
   "metadata": {
    "tags": []
   },
   "outputs": [],
   "source": [
    "system = \"Convert the following document form image to text as it is.\\\n",
    "Please do not ask or add any extra information.\\\n",
    "Make section for code block.\\\n",
    "Provide the Mathematical expressions in latex format.\\\n",
    "Provide the tables and digrams in latex format \""
   ]
  },
  {
   "cell_type": "code",
   "execution_count": null,
   "id": "80cb6278-5c3e-4238-9826-36ec6ecc3a1e",
   "metadata": {},
   "outputs": [],
   "source": [
    "image_url = 'https://raw.githubusercontent.com/Dhruvsahu98/prev-yrs-data-bs-ds/main/MLP/Quiz-1/Oct-2022/input/page_186.jpeg'\n",
    "\n",
    "#image_url='https://raw.githubusercontent.com/langchain-ai/langchain/master/docs/static/img/langchain_stack.png'"
   ]
  },
  {
   "cell_type": "code",
   "execution_count": null,
   "id": "151fab87",
   "metadata": {},
   "outputs": [],
   "source": [
    "from langchain.chat_models import ChatOpenAI\n",
    "from langchain.schema.messages import HumanMessage, SystemMessage\n",
    "\n",
    "chat = ChatOpenAI(model=model_name,openai_api_key=api_key, max_tokens=4095)\n",
    "#chat = ChatOpenAI(model=model,api_key=api_key,base_url=base_url,max_tokens=4095)"
   ]
  },
  {
   "cell_type": "code",
   "execution_count": null,
   "id": "ab3e81bb",
   "metadata": {},
   "outputs": [],
   "source": [
    "from langchain_core.messages import HumanMessage\n",
    "from langchain_openai import AzureChatOpenAI\n",
    "\n",
    "model = AzureChatOpenAI(\n",
    "    api_version=azure_openai_api_version,\n",
    "    api_key=azure_openai_api_key,\n",
    "    azure_endpoint=azure_endpoint,\n",
    "    azure_deployment=azure_deployment\n",
    ")"
   ]
  },
  {
   "cell_type": "code",
   "execution_count": null,
   "id": "15c3dec8-81c2-4059-84ed-1ccc6031ffca",
   "metadata": {
    "tags": []
   },
   "outputs": [],
   "source": [
    "\n",
    "\n",
    "output = chat.invoke(\n",
    "    [\n",
    "        HumanMessage(\n",
    "            content=[\n",
    "                {\"type\": \"text\", \"text\": system},\n",
    "                {\n",
    "                    \"type\": \"image_url\",\n",
    "                    \"image_url\": {\n",
    "                        \"url\": image_url ,\n",
    "                        \"detail\": \"auto\",\n",
    "                    },\n",
    "                },\n",
    "            ]\n",
    "        )\n",
    "    ]\n",
    ")"
   ]
  },
  {
   "cell_type": "code",
   "execution_count": null,
   "id": "6b4c0dbc-51a0-4bb3-afbb-b0735b97955a",
   "metadata": {},
   "outputs": [],
   "source": [
    "print(output.content)"
   ]
  },
  {
   "cell_type": "code",
   "execution_count": null,
   "id": "60540157-0762-48b6-b6d5-05170b586d0d",
   "metadata": {
    "tags": []
   },
   "outputs": [],
   "source": [
    "## Creating the copy of file in local\n",
    "\n",
    "with open('output/output.txt', 'w') as f:\n",
    "    f.write(str(output.content))"
   ]
  },
  {
   "cell_type": "markdown",
   "id": "aaa064fc-35ff-44cf-9779-eb75c93a6373",
   "metadata": {},
   "source": [
    "## Image to text Extraction for all images"
   ]
  },
  {
   "cell_type": "code",
   "execution_count": 3,
   "id": "c570f5ec-8079-49a9-9513-10583c205088",
   "metadata": {
    "tags": []
   },
   "outputs": [],
   "source": [
    "\n",
    "############ Using Llama3 ##################\n",
    "\n",
    "#groq_api_key=\"<----Your API Key---->\"\n",
    "#model_name=\"llama3-70b-8192\"\n",
    "\n",
    "############ Using Gemini ##################\n",
    "\n",
    "#google_api_key=\"<----Your API Key---->\"\n",
    "#model_name=\"gemini-pro\"\n",
    "\n",
    "############ Using Openai ##################\n",
    "\n",
    "model_name=\"gpt-4o\"\n",
    "api_key=\"sk-proj-64r8xOQbjwRJANH8mf6ZT3BlbkFJl4b69R4rvoQw6amJBtBS\"\n",
    "\n",
    "\n",
    "############ Using Openai ##################\n",
    "#model_name=\"gpt-4o\"\n",
    "#api_key=\"<----Your API Key---->\"\n",
    "#model_base_url=\"https://api.theb.ai/v1\"\n",
    "\n",
    "\n",
    "############ Using Azure Openai ##################\n",
    "\n",
    "\n",
    "############ Using Azure Openai ###############\n",
    "# azure_openai_api_version='2024-02-15-preview'\n",
    "# azure_deployment='gpt-4o'\n",
    "# azure_openai_api_key ='<----Your API key------>'\n",
    "# azure_endpoint='<----Your Studio endpoint------>'\n",
    "\n"
   ]
  },
  {
   "cell_type": "code",
   "execution_count": 4,
   "id": "3c4c8853-d95a-4727-aa48-693299dcfce8",
   "metadata": {
    "tags": []
   },
   "outputs": [],
   "source": [
    "system =  \"Convert the following document form image to text as it is.\\\n",
    "Please do not ask or add any extra information.\\\n",
    "Make section for code block in python format.\\\n",
    "Provide the Mathematical expressions in latex format.\\\n",
    "Provide the tables and digrams in latex format.\\\n",
    "Please do not throw any error if the image is not clear or not able to read.\""
   ]
  },
  {
   "cell_type": "code",
   "execution_count": 5,
   "id": "2a3af885-4cca-495d-8f33-bae9dc9cd9b4",
   "metadata": {},
   "outputs": [],
   "source": [
    "## Implementing base url\n",
    "\n",
    "base_url = 'https://raw.githubusercontent.com/Dhruvsahu98/prev-yrs-data-bs-ds/main/MLP/Quiz-2/AUG-2023/input/'\n",
    "filename_base = 'page_'\n",
    "token = ''\n",
    "\n",
    "page_start=163\n",
    "page_end=180\n",
    "\n",
    "output_folder_location= 'C:\\\\Users\\\\aksha\\\\Desktop\\\\MADII\\\\IITM\\\\New\\\\prev-yrs-data-bs-ds\\\\MLP\\\\Quiz-2\\\\AUG-2023\\\\output'"
   ]
  },
  {
   "cell_type": "code",
   "execution_count": 6,
   "id": "4d1df548-a43d-44f0-86b7-183da8037255",
   "metadata": {
    "tags": []
   },
   "outputs": [],
   "source": [
    "from langchain.chat_models import ChatOpenAI\n",
    "from langchain.schema.messages import HumanMessage, SystemMessage\n",
    "\n",
    "\n",
    "model = ChatOpenAI(model=model_name,openai_api_key=api_key, max_tokens=4095)\n",
    "\n",
    "## BAI Chat model\n",
    "#model = ChatOpenAI(model=model_name,openai_api_key=api_key,base_url=model_base_url, max_tokens=4095)"
   ]
  },
  {
   "cell_type": "code",
   "execution_count": 7,
   "id": "400fe25d",
   "metadata": {},
   "outputs": [],
   "source": [
    "from langchain_openai import AzureChatOpenAI\n",
    "from langchain_openai import AzureOpenAI\n",
    "from langchain.schema.messages import HumanMessage, SystemMessage\n",
    "\n",
    "#model = AzureOpenAI(azure_endpoint=model_base_url,api_version=\"2020-05-31\",openai_api_key=api_key)\n",
    "from langchain_core.messages import HumanMessage\n",
    "from langchain_openai import AzureChatOpenAI\n",
    "\n",
    "model = AzureChatOpenAI(\n",
    "    api_version=azure_openai_api_version,\n",
    "    api_key=azure_openai_api_key,\n",
    "    azure_endpoint=azure_endpoint,\n",
    "    azure_deployment=azure_deployment\n",
    ")"
   ]
  },
  {
   "cell_type": "code",
   "execution_count": 8,
   "id": "36f84e1e",
   "metadata": {},
   "outputs": [
    {
     "name": "stdout",
     "output_type": "stream",
     "text": [
      "client=<openai.resources.chat.completions.Completions object at 0x00000241D2C47F40> async_client=<openai.resources.chat.completions.AsyncCompletions object at 0x00000241D2C81690> openai_api_key=SecretStr('**********') openai_proxy='' azure_endpoint='https://azureaistudio7330641310.openai.azure.com/' deployment_name='gpt-4o' openai_api_version='2024-02-15-preview' openai_api_type='azure'\n"
     ]
    }
   ],
   "source": [
    "print(model)"
   ]
  },
  {
   "cell_type": "code",
   "execution_count": null,
   "id": "65efab08-5ac8-48f3-9ea5-494aed79fdc8",
   "metadata": {
    "tags": []
   },
   "outputs": [],
   "source": [
    "######### Error handled in the following code ############\n",
    "\n",
    "def getImageUrl(input):\n",
    "    try:\n",
    "        image_url = f\"{base_url}{filename_base}{input}.jpeg{token}\"\n",
    "        return image_url\n",
    "    except Exception as e:\n",
    "        print(f\"An error  occurred in Url name Assembly: {e}\")\n",
    "\n",
    "def invokeModel(image_url):\n",
    "    try:\n",
    "        return model.invoke(\n",
    "            [\n",
    "                HumanMessage(\n",
    "                    content=[\n",
    "                        {\"type\": \"text\", \"text\": system},\n",
    "                        {\n",
    "                            \"type\": \"image_url\",\n",
    "                            \"image_url\": {\n",
    "                                \"url\": image_url,\n",
    "                                \"detail\": \"auto\",\n",
    "                            },\n",
    "                        },\n",
    "                    ]\n",
    "                )\n",
    "            ]\n",
    "        )\n",
    "    except Exception as e:\n",
    "        print(f\"An error invokeModel occurred: {e}\")\n",
    "\n",
    "\n",
    "def storingFile(i, output):\n",
    "    try:\n",
    "        with open(f'{output_folder_location}\\{filename_base}{i}.txt', 'w', encoding='utf-8', errors='replace') as f:\n",
    "            f.write(str(output.content))\n",
    "    except Exception as e:\n",
    "        print(f\"An error in storingFile occurred: {e}\")"
   ]
  },
  {
   "cell_type": "code",
   "execution_count": null,
   "id": "4dcfc574-6904-44a2-9b79-89e6935faf9f",
   "metadata": {
    "tags": []
   },
   "outputs": [],
   "source": [
    "import copy\n",
    "import time\n",
    "\n",
    "for i in range(page_start, page_end+1):\n",
    "    try:\n",
    "        image_url = getImageUrl(i)\n",
    "        print(f'Using image url : {image_url}')\n",
    "        output = invokeModel(image_url)\n",
    "        time.sleep(10)\n",
    "        storingFile(i, copy.deepcopy(output))\n",
    "        print(f'Output : {output.content}')\n",
    "    except Exception as e:\n",
    "        print(f\"An error occurred in Execution block: {e}\")"
   ]
  },
  {
   "cell_type": "code",
   "execution_count": null,
   "id": "6c8417d2-6d3f-4d73-9594-19fc78145ad3",
   "metadata": {},
   "outputs": [],
   "source": []
  },
  {
   "cell_type": "code",
   "execution_count": null,
   "id": "a9edabec-36eb-4a0c-9d57-98ba17b691ee",
   "metadata": {},
   "outputs": [],
   "source": []
  }
 ],
 "metadata": {
  "kernelspec": {
   "display_name": "Python 3 (ipykernel)",
   "language": "python",
   "name": "python3"
  },
  "language_info": {
   "codemirror_mode": {
    "name": "ipython",
    "version": 3
   },
   "file_extension": ".py",
   "mimetype": "text/x-python",
   "name": "python",
   "nbconvert_exporter": "python",
   "pygments_lexer": "ipython3",
   "version": "3.10.2"
  }
 },
 "nbformat": 4,
 "nbformat_minor": 5
}
