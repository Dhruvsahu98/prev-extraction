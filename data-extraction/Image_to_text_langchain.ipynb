{
 "cells": [
  {
   "cell_type": "code",
   "execution_count": 3,
   "id": "ebb1c89d-3f66-4c8e-956a-d8bd374a8755",
   "metadata": {
    "collapsed": true,
    "jupyter": {
     "outputs_hidden": true
    },
    "tags": []
   },
   "outputs": [
    {
     "name": "stdout",
     "output_type": "stream",
     "text": [
      "Collecting langchain-groq\n",
      "  Using cached langchain_groq-0.1.4-py3-none-any.whl.metadata (2.8 kB)\n",
      "Collecting groq<1,>=0.4.1 (from langchain-groq)\n",
      "  Using cached groq-0.8.0-py3-none-any.whl.metadata (13 kB)\n",
      "Collecting langchain-core<0.3,>=0.1.45 (from langchain-groq)\n",
      "  Using cached langchain_core-0.2.3-py3-none-any.whl.metadata (5.9 kB)\n",
      "Requirement already satisfied: anyio<5,>=3.5.0 in c:\\python310\\lib\\site-packages (from groq<1,>=0.4.1->langchain-groq) (3.7.1)\n",
      "Requirement already satisfied: distro<2,>=1.7.0 in c:\\python310\\lib\\site-packages (from groq<1,>=0.4.1->langchain-groq) (1.9.0)\n",
      "Requirement already satisfied: httpx<1,>=0.23.0 in c:\\python310\\lib\\site-packages (from groq<1,>=0.4.1->langchain-groq) (0.27.0)\n",
      "Requirement already satisfied: pydantic<3,>=1.9.0 in c:\\python310\\lib\\site-packages (from groq<1,>=0.4.1->langchain-groq) (2.5.0)\n",
      "Requirement already satisfied: sniffio in c:\\python310\\lib\\site-packages (from groq<1,>=0.4.1->langchain-groq) (1.3.0)\n",
      "Requirement already satisfied: typing-extensions<5,>=4.7 in c:\\python310\\lib\\site-packages (from groq<1,>=0.4.1->langchain-groq) (4.8.0)\n",
      "Requirement already satisfied: PyYAML>=5.3 in c:\\python310\\lib\\site-packages (from langchain-core<0.3,>=0.1.45->langchain-groq) (6.0.1)\n",
      "Requirement already satisfied: jsonpatch<2.0,>=1.33 in c:\\python310\\lib\\site-packages (from langchain-core<0.3,>=0.1.45->langchain-groq) (1.33)\n",
      "Collecting langsmith<0.2.0,>=0.1.65 (from langchain-core<0.3,>=0.1.45->langchain-groq)\n",
      "  Using cached langsmith-0.1.67-py3-none-any.whl.metadata (13 kB)\n",
      "Requirement already satisfied: packaging<24.0,>=23.2 in c:\\python310\\lib\\site-packages (from langchain-core<0.3,>=0.1.45->langchain-groq) (23.2)\n",
      "Requirement already satisfied: tenacity<9.0.0,>=8.1.0 in c:\\python310\\lib\\site-packages (from langchain-core<0.3,>=0.1.45->langchain-groq) (8.2.3)\n",
      "Requirement already satisfied: idna>=2.8 in c:\\python310\\lib\\site-packages (from anyio<5,>=3.5.0->groq<1,>=0.4.1->langchain-groq) (3.4)\n",
      "Requirement already satisfied: exceptiongroup in c:\\python310\\lib\\site-packages (from anyio<5,>=3.5.0->groq<1,>=0.4.1->langchain-groq) (1.1.3)\n",
      "Requirement already satisfied: certifi in c:\\python310\\lib\\site-packages (from httpx<1,>=0.23.0->groq<1,>=0.4.1->langchain-groq) (2023.7.22)\n",
      "Requirement already satisfied: httpcore==1.* in c:\\python310\\lib\\site-packages (from httpx<1,>=0.23.0->groq<1,>=0.4.1->langchain-groq) (1.0.5)\n",
      "Requirement already satisfied: h11<0.15,>=0.13 in c:\\python310\\lib\\site-packages (from httpcore==1.*->httpx<1,>=0.23.0->groq<1,>=0.4.1->langchain-groq) (0.14.0)\n",
      "Requirement already satisfied: jsonpointer>=1.9 in c:\\python310\\lib\\site-packages (from jsonpatch<2.0,>=1.33->langchain-core<0.3,>=0.1.45->langchain-groq) (2.4)\n",
      "Requirement already satisfied: orjson<4.0.0,>=3.9.14 in c:\\python310\\lib\\site-packages (from langsmith<0.2.0,>=0.1.65->langchain-core<0.3,>=0.1.45->langchain-groq) (3.10.3)\n",
      "Requirement already satisfied: requests<3,>=2 in c:\\python310\\lib\\site-packages (from langsmith<0.2.0,>=0.1.65->langchain-core<0.3,>=0.1.45->langchain-groq) (2.31.0)\n",
      "Requirement already satisfied: annotated-types>=0.4.0 in c:\\python310\\lib\\site-packages (from pydantic<3,>=1.9.0->groq<1,>=0.4.1->langchain-groq) (0.6.0)\n",
      "Requirement already satisfied: pydantic-core==2.14.1 in c:\\python310\\lib\\site-packages (from pydantic<3,>=1.9.0->groq<1,>=0.4.1->langchain-groq) (2.14.1)\n",
      "Requirement already satisfied: charset-normalizer<4,>=2 in c:\\python310\\lib\\site-packages (from requests<3,>=2->langsmith<0.2.0,>=0.1.65->langchain-core<0.3,>=0.1.45->langchain-groq) (3.3.2)\n",
      "Requirement already satisfied: urllib3<3,>=1.21.1 in c:\\python310\\lib\\site-packages (from requests<3,>=2->langsmith<0.2.0,>=0.1.65->langchain-core<0.3,>=0.1.45->langchain-groq) (2.1.0)\n",
      "Using cached langchain_groq-0.1.4-py3-none-any.whl (11 kB)\n",
      "Using cached groq-0.8.0-py3-none-any.whl (105 kB)\n",
      "Using cached langchain_core-0.2.3-py3-none-any.whl (310 kB)\n",
      "Using cached langsmith-0.1.67-py3-none-any.whl (124 kB)\n",
      "Installing collected packages: langsmith, groq, langchain-core, langchain-groq\n"
     ]
    },
    {
     "name": "stderr",
     "output_type": "stream",
     "text": [
      "WARNING: Ignoring invalid distribution - (c:\\python310\\lib\\site-packages)\n",
      "WARNING: Ignoring invalid distribution -angsmith (c:\\python310\\lib\\site-packages)\n",
      "WARNING: Ignoring invalid distribution -ip (c:\\python310\\lib\\site-packages)\n",
      "WARNING: Ignoring invalid distribution -lask (c:\\python310\\lib\\site-packages)\n",
      "WARNING: Ignoring invalid distribution -p (c:\\python310\\lib\\site-packages)\n",
      "WARNING: Ignoring invalid distribution - (c:\\python310\\lib\\site-packages)\n",
      "WARNING: Ignoring invalid distribution -angsmith (c:\\python310\\lib\\site-packages)\n",
      "WARNING: Ignoring invalid distribution -ip (c:\\python310\\lib\\site-packages)\n",
      "WARNING: Ignoring invalid distribution -lask (c:\\python310\\lib\\site-packages)\n",
      "WARNING: Ignoring invalid distribution -p (c:\\python310\\lib\\site-packages)\n",
      "  WARNING: Failed to write executable - trying to use .deleteme logic\n",
      "ERROR: Could not install packages due to an OSError: [WinError 5] Access is denied: 'C:\\\\Python310\\\\Scripts\\\\langsmith.exe' -> 'C:\\\\Python310\\\\Scripts\\\\langsmith.exe.deleteme'\n",
      "Consider using the `--user` option or check the permissions.\n",
      "\n"
     ]
    },
    {
     "name": "stdout",
     "output_type": "stream",
     "text": [
      "Requirement already satisfied: openai in c:\\python310\\lib\\site-packages (0.27.8)\n",
      "Requirement already satisfied: requests>=2.20 in c:\\python310\\lib\\site-packages (from openai) (2.31.0)\n",
      "Requirement already satisfied: tqdm in c:\\python310\\lib\\site-packages (from openai) (4.66.1)\n",
      "Requirement already satisfied: aiohttp in c:\\python310\\lib\\site-packages (from openai) (3.8.6)\n",
      "Requirement already satisfied: charset-normalizer<4,>=2 in c:\\python310\\lib\\site-packages (from requests>=2.20->openai) (3.3.2)\n",
      "Requirement already satisfied: idna<4,>=2.5 in c:\\python310\\lib\\site-packages (from requests>=2.20->openai) (3.4)\n",
      "Requirement already satisfied: urllib3<3,>=1.21.1 in c:\\python310\\lib\\site-packages (from requests>=2.20->openai) (2.1.0)\n",
      "Requirement already satisfied: certifi>=2017.4.17 in c:\\python310\\lib\\site-packages (from requests>=2.20->openai) (2023.7.22)\n",
      "Requirement already satisfied: attrs>=17.3.0 in c:\\python310\\lib\\site-packages (from aiohttp->openai) (23.1.0)\n",
      "Requirement already satisfied: multidict<7.0,>=4.5 in c:\\python310\\lib\\site-packages (from aiohttp->openai) (6.0.4)\n",
      "Requirement already satisfied: async-timeout<5.0,>=4.0.0a3 in c:\\python310\\lib\\site-packages (from aiohttp->openai) (4.0.3)\n",
      "Requirement already satisfied: yarl<2.0,>=1.0 in c:\\python310\\lib\\site-packages (from aiohttp->openai) (1.9.2)\n",
      "Requirement already satisfied: frozenlist>=1.1.1 in c:\\python310\\lib\\site-packages (from aiohttp->openai) (1.4.0)\n",
      "Requirement already satisfied: aiosignal>=1.1.2 in c:\\python310\\lib\\site-packages (from aiohttp->openai) (1.3.1)\n",
      "Requirement already satisfied: colorama in c:\\python310\\lib\\site-packages (from tqdm->openai) (0.4.6)\n"
     ]
    },
    {
     "name": "stderr",
     "output_type": "stream",
     "text": [
      "WARNING: Ignoring invalid distribution - (c:\\python310\\lib\\site-packages)\n",
      "WARNING: Ignoring invalid distribution -angsmith (c:\\python310\\lib\\site-packages)\n",
      "WARNING: Ignoring invalid distribution -ip (c:\\python310\\lib\\site-packages)\n",
      "WARNING: Ignoring invalid distribution -lask (c:\\python310\\lib\\site-packages)\n",
      "WARNING: Ignoring invalid distribution -p (c:\\python310\\lib\\site-packages)\n",
      "WARNING: Ignoring invalid distribution - (c:\\python310\\lib\\site-packages)\n",
      "WARNING: Ignoring invalid distribution -angsmith (c:\\python310\\lib\\site-packages)\n",
      "WARNING: Ignoring invalid distribution -ip (c:\\python310\\lib\\site-packages)\n",
      "WARNING: Ignoring invalid distribution -lask (c:\\python310\\lib\\site-packages)\n",
      "WARNING: Ignoring invalid distribution -p (c:\\python310\\lib\\site-packages)\n"
     ]
    },
    {
     "name": "stdout",
     "output_type": "stream",
     "text": [
      "Collecting langchain-openai\n",
      "  Using cached langchain_openai-0.1.8-py3-none-any.whl.metadata (2.5 kB)\n",
      "Collecting langchain-core<0.3,>=0.2.2 (from langchain-openai)\n",
      "  Using cached langchain_core-0.2.3-py3-none-any.whl.metadata (5.9 kB)\n",
      "Collecting openai<2.0.0,>=1.26.0 (from langchain-openai)\n",
      "  Using cached openai-1.30.5-py3-none-any.whl.metadata (21 kB)\n",
      "Requirement already satisfied: tiktoken<1,>=0.7 in c:\\python310\\lib\\site-packages (from langchain-openai) (0.7.0)\n",
      "Requirement already satisfied: PyYAML>=5.3 in c:\\python310\\lib\\site-packages (from langchain-core<0.3,>=0.2.2->langchain-openai) (6.0.1)\n",
      "Requirement already satisfied: jsonpatch<2.0,>=1.33 in c:\\python310\\lib\\site-packages (from langchain-core<0.3,>=0.2.2->langchain-openai) (1.33)\n",
      "Requirement already satisfied: langsmith<0.2.0,>=0.1.65 in c:\\python310\\lib\\site-packages (from langchain-core<0.3,>=0.2.2->langchain-openai) (0.1.67)\n",
      "Requirement already satisfied: packaging<24.0,>=23.2 in c:\\python310\\lib\\site-packages (from langchain-core<0.3,>=0.2.2->langchain-openai) (23.2)\n",
      "Requirement already satisfied: pydantic<3,>=1 in c:\\python310\\lib\\site-packages (from langchain-core<0.3,>=0.2.2->langchain-openai) (2.5.0)\n",
      "Requirement already satisfied: tenacity<9.0.0,>=8.1.0 in c:\\python310\\lib\\site-packages (from langchain-core<0.3,>=0.2.2->langchain-openai) (8.2.3)\n",
      "Requirement already satisfied: anyio<5,>=3.5.0 in c:\\python310\\lib\\site-packages (from openai<2.0.0,>=1.26.0->langchain-openai) (3.7.1)\n",
      "Requirement already satisfied: distro<2,>=1.7.0 in c:\\python310\\lib\\site-packages (from openai<2.0.0,>=1.26.0->langchain-openai) (1.9.0)\n",
      "Requirement already satisfied: httpx<1,>=0.23.0 in c:\\python310\\lib\\site-packages (from openai<2.0.0,>=1.26.0->langchain-openai) (0.27.0)\n",
      "Requirement already satisfied: sniffio in c:\\python310\\lib\\site-packages (from openai<2.0.0,>=1.26.0->langchain-openai) (1.3.0)\n",
      "Requirement already satisfied: tqdm>4 in c:\\python310\\lib\\site-packages (from openai<2.0.0,>=1.26.0->langchain-openai) (4.66.1)\n",
      "Requirement already satisfied: typing-extensions<5,>=4.7 in c:\\python310\\lib\\site-packages (from openai<2.0.0,>=1.26.0->langchain-openai) (4.8.0)\n",
      "Requirement already satisfied: regex>=2022.1.18 in c:\\python310\\lib\\site-packages (from tiktoken<1,>=0.7->langchain-openai) (2023.10.3)\n",
      "Requirement already satisfied: requests>=2.26.0 in c:\\python310\\lib\\site-packages (from tiktoken<1,>=0.7->langchain-openai) (2.31.0)\n",
      "Requirement already satisfied: idna>=2.8 in c:\\python310\\lib\\site-packages (from anyio<5,>=3.5.0->openai<2.0.0,>=1.26.0->langchain-openai) (3.4)\n",
      "Requirement already satisfied: exceptiongroup in c:\\python310\\lib\\site-packages (from anyio<5,>=3.5.0->openai<2.0.0,>=1.26.0->langchain-openai) (1.1.3)\n",
      "Requirement already satisfied: certifi in c:\\python310\\lib\\site-packages (from httpx<1,>=0.23.0->openai<2.0.0,>=1.26.0->langchain-openai) (2023.7.22)\n",
      "Requirement already satisfied: httpcore==1.* in c:\\python310\\lib\\site-packages (from httpx<1,>=0.23.0->openai<2.0.0,>=1.26.0->langchain-openai) (1.0.5)\n",
      "Requirement already satisfied: h11<0.15,>=0.13 in c:\\python310\\lib\\site-packages (from httpcore==1.*->httpx<1,>=0.23.0->openai<2.0.0,>=1.26.0->langchain-openai) (0.14.0)\n",
      "Requirement already satisfied: jsonpointer>=1.9 in c:\\python310\\lib\\site-packages (from jsonpatch<2.0,>=1.33->langchain-core<0.3,>=0.2.2->langchain-openai) (2.4)\n",
      "Requirement already satisfied: orjson<4.0.0,>=3.9.14 in c:\\python310\\lib\\site-packages (from langsmith<0.2.0,>=0.1.65->langchain-core<0.3,>=0.2.2->langchain-openai) (3.10.3)\n",
      "Requirement already satisfied: annotated-types>=0.4.0 in c:\\python310\\lib\\site-packages (from pydantic<3,>=1->langchain-core<0.3,>=0.2.2->langchain-openai) (0.6.0)\n",
      "Requirement already satisfied: pydantic-core==2.14.1 in c:\\python310\\lib\\site-packages (from pydantic<3,>=1->langchain-core<0.3,>=0.2.2->langchain-openai) (2.14.1)\n",
      "Requirement already satisfied: charset-normalizer<4,>=2 in c:\\python310\\lib\\site-packages (from requests>=2.26.0->tiktoken<1,>=0.7->langchain-openai) (3.3.2)\n",
      "Requirement already satisfied: urllib3<3,>=1.21.1 in c:\\python310\\lib\\site-packages (from requests>=2.26.0->tiktoken<1,>=0.7->langchain-openai) (2.1.0)\n",
      "Requirement already satisfied: colorama in c:\\python310\\lib\\site-packages (from tqdm>4->openai<2.0.0,>=1.26.0->langchain-openai) (0.4.6)\n",
      "Using cached langchain_openai-0.1.8-py3-none-any.whl (38 kB)\n",
      "Using cached langchain_core-0.2.3-py3-none-any.whl (310 kB)\n",
      "Using cached openai-1.30.5-py3-none-any.whl (320 kB)\n",
      "Installing collected packages: openai, langchain-core, langchain-openai\n",
      "  Attempting uninstall: openai\n",
      "    Found existing installation: openai 0.27.8\n",
      "    Uninstalling openai-0.27.8:\n"
     ]
    },
    {
     "name": "stderr",
     "output_type": "stream",
     "text": [
      "WARNING: Ignoring invalid distribution - (c:\\python310\\lib\\site-packages)\n",
      "WARNING: Ignoring invalid distribution -angsmith (c:\\python310\\lib\\site-packages)\n",
      "WARNING: Ignoring invalid distribution -ip (c:\\python310\\lib\\site-packages)\n",
      "WARNING: Ignoring invalid distribution -lask (c:\\python310\\lib\\site-packages)\n",
      "WARNING: Ignoring invalid distribution -p (c:\\python310\\lib\\site-packages)\n",
      "WARNING: Ignoring invalid distribution - (c:\\python310\\lib\\site-packages)\n",
      "WARNING: Ignoring invalid distribution -angsmith (c:\\python310\\lib\\site-packages)\n",
      "WARNING: Ignoring invalid distribution -ip (c:\\python310\\lib\\site-packages)\n",
      "WARNING: Ignoring invalid distribution -lask (c:\\python310\\lib\\site-packages)\n",
      "WARNING: Ignoring invalid distribution -p (c:\\python310\\lib\\site-packages)\n",
      "ERROR: Could not install packages due to an OSError: [WinError 5] Access is denied: 'c:\\\\python310\\\\scripts\\\\openai.exe'\n",
      "Consider using the `--user` option or check the permissions.\n",
      "\n"
     ]
    },
    {
     "name": "stdout",
     "output_type": "stream",
     "text": [
      "Collecting langchain-google-genai\n",
      "  Using cached langchain_google_genai-1.0.5-py3-none-any.whl.metadata (3.8 kB)\n",
      "Collecting google-generativeai<0.6.0,>=0.5.2 (from langchain-google-genai)\n",
      "  Using cached google_generativeai-0.5.4-py3-none-any.whl.metadata (3.9 kB)\n",
      "Collecting langchain-core<0.3,>=0.2.0 (from langchain-google-genai)\n",
      "  Using cached langchain_core-0.2.3-py3-none-any.whl.metadata (5.9 kB)\n",
      "Collecting google-ai-generativelanguage==0.6.4 (from google-generativeai<0.6.0,>=0.5.2->langchain-google-genai)\n",
      "  Using cached google_ai_generativelanguage-0.6.4-py3-none-any.whl.metadata (5.6 kB)\n",
      "Collecting google-api-core (from google-generativeai<0.6.0,>=0.5.2->langchain-google-genai)\n",
      "  Using cached google_api_core-2.19.0-py3-none-any.whl.metadata (2.7 kB)\n",
      "Collecting google-api-python-client (from google-generativeai<0.6.0,>=0.5.2->langchain-google-genai)\n",
      "  Using cached google_api_python_client-2.131.0-py2.py3-none-any.whl.metadata (6.7 kB)\n",
      "Collecting google-auth>=2.15.0 (from google-generativeai<0.6.0,>=0.5.2->langchain-google-genai)\n",
      "  Using cached google_auth-2.29.0-py2.py3-none-any.whl.metadata (4.7 kB)\n",
      "Requirement already satisfied: protobuf in c:\\python310\\lib\\site-packages (from google-generativeai<0.6.0,>=0.5.2->langchain-google-genai) (4.25.3)\n",
      "Requirement already satisfied: pydantic in c:\\python310\\lib\\site-packages (from google-generativeai<0.6.0,>=0.5.2->langchain-google-genai) (2.5.0)\n",
      "Requirement already satisfied: tqdm in c:\\python310\\lib\\site-packages (from google-generativeai<0.6.0,>=0.5.2->langchain-google-genai) (4.66.1)\n",
      "Requirement already satisfied: typing-extensions in c:\\python310\\lib\\site-packages (from google-generativeai<0.6.0,>=0.5.2->langchain-google-genai) (4.8.0)\n",
      "Collecting proto-plus<2.0.0dev,>=1.22.3 (from google-ai-generativelanguage==0.6.4->google-generativeai<0.6.0,>=0.5.2->langchain-google-genai)\n",
      "  Using cached proto_plus-1.23.0-py3-none-any.whl.metadata (2.2 kB)\n",
      "Requirement already satisfied: PyYAML>=5.3 in c:\\python310\\lib\\site-packages (from langchain-core<0.3,>=0.2.0->langchain-google-genai) (6.0.1)\n",
      "Requirement already satisfied: jsonpatch<2.0,>=1.33 in c:\\python310\\lib\\site-packages (from langchain-core<0.3,>=0.2.0->langchain-google-genai) (1.33)\n",
      "Requirement already satisfied: langsmith<0.2.0,>=0.1.65 in c:\\python310\\lib\\site-packages (from langchain-core<0.3,>=0.2.0->langchain-google-genai) (0.1.67)\n",
      "Requirement already satisfied: packaging<24.0,>=23.2 in c:\\python310\\lib\\site-packages (from langchain-core<0.3,>=0.2.0->langchain-google-genai) (23.2)\n",
      "Requirement already satisfied: tenacity<9.0.0,>=8.1.0 in c:\\python310\\lib\\site-packages (from langchain-core<0.3,>=0.2.0->langchain-google-genai) (8.2.3)\n",
      "Collecting googleapis-common-protos<2.0.dev0,>=1.56.2 (from google-api-core->google-generativeai<0.6.0,>=0.5.2->langchain-google-genai)\n",
      "  Using cached googleapis_common_protos-1.63.0-py2.py3-none-any.whl.metadata (1.5 kB)\n",
      "Requirement already satisfied: requests<3.0.0.dev0,>=2.18.0 in c:\\python310\\lib\\site-packages (from google-api-core->google-generativeai<0.6.0,>=0.5.2->langchain-google-genai) (2.31.0)\n",
      "Requirement already satisfied: cachetools<6.0,>=2.0.0 in c:\\python310\\lib\\site-packages (from google-auth>=2.15.0->google-generativeai<0.6.0,>=0.5.2->langchain-google-genai) (5.3.3)\n",
      "Collecting pyasn1-modules>=0.2.1 (from google-auth>=2.15.0->google-generativeai<0.6.0,>=0.5.2->langchain-google-genai)\n",
      "  Using cached pyasn1_modules-0.4.0-py3-none-any.whl.metadata (3.4 kB)\n",
      "Requirement already satisfied: rsa<5,>=3.1.4 in c:\\python310\\lib\\site-packages (from google-auth>=2.15.0->google-generativeai<0.6.0,>=0.5.2->langchain-google-genai) (4.9)\n",
      "Requirement already satisfied: jsonpointer>=1.9 in c:\\python310\\lib\\site-packages (from jsonpatch<2.0,>=1.33->langchain-core<0.3,>=0.2.0->langchain-google-genai) (2.4)\n",
      "Requirement already satisfied: orjson<4.0.0,>=3.9.14 in c:\\python310\\lib\\site-packages (from langsmith<0.2.0,>=0.1.65->langchain-core<0.3,>=0.2.0->langchain-google-genai) (3.10.3)\n",
      "Requirement already satisfied: annotated-types>=0.4.0 in c:\\python310\\lib\\site-packages (from pydantic->google-generativeai<0.6.0,>=0.5.2->langchain-google-genai) (0.6.0)\n",
      "Requirement already satisfied: pydantic-core==2.14.1 in c:\\python310\\lib\\site-packages (from pydantic->google-generativeai<0.6.0,>=0.5.2->langchain-google-genai) (2.14.1)\n",
      "Collecting httplib2<1.dev0,>=0.19.0 (from google-api-python-client->google-generativeai<0.6.0,>=0.5.2->langchain-google-genai)\n",
      "  Using cached httplib2-0.22.0-py3-none-any.whl.metadata (2.6 kB)\n",
      "Collecting google-auth-httplib2<1.0.0,>=0.2.0 (from google-api-python-client->google-generativeai<0.6.0,>=0.5.2->langchain-google-genai)\n",
      "  Using cached google_auth_httplib2-0.2.0-py2.py3-none-any.whl.metadata (2.2 kB)\n",
      "Requirement already satisfied: uritemplate<5,>=3.0.1 in c:\\python310\\lib\\site-packages (from google-api-python-client->google-generativeai<0.6.0,>=0.5.2->langchain-google-genai) (4.1.1)\n",
      "Requirement already satisfied: colorama in c:\\python310\\lib\\site-packages (from tqdm->google-generativeai<0.6.0,>=0.5.2->langchain-google-genai) (0.4.6)\n",
      "Requirement already satisfied: grpcio<2.0dev,>=1.33.2 in c:\\python310\\lib\\site-packages (from google-api-core[grpc]!=2.0.*,!=2.1.*,!=2.10.*,!=2.2.*,!=2.3.*,!=2.4.*,!=2.5.*,!=2.6.*,!=2.7.*,!=2.8.*,!=2.9.*,<3.0.0dev,>=1.34.1->google-ai-generativelanguage==0.6.4->google-generativeai<0.6.0,>=0.5.2->langchain-google-genai) (1.64.0)\n",
      "Collecting grpcio-status<2.0.dev0,>=1.33.2 (from google-api-core[grpc]!=2.0.*,!=2.1.*,!=2.10.*,!=2.2.*,!=2.3.*,!=2.4.*,!=2.5.*,!=2.6.*,!=2.7.*,!=2.8.*,!=2.9.*,<3.0.0dev,>=1.34.1->google-ai-generativelanguage==0.6.4->google-generativeai<0.6.0,>=0.5.2->langchain-google-genai)\n",
      "  Using cached grpcio_status-1.64.0-py3-none-any.whl.metadata (1.1 kB)\n",
      "Requirement already satisfied: pyparsing!=3.0.0,!=3.0.1,!=3.0.2,!=3.0.3,<4,>=2.4.2 in c:\\python310\\lib\\site-packages (from httplib2<1.dev0,>=0.19.0->google-api-python-client->google-generativeai<0.6.0,>=0.5.2->langchain-google-genai) (3.1.2)\n",
      "Requirement already satisfied: pyasn1<0.7.0,>=0.4.6 in c:\\python310\\lib\\site-packages (from pyasn1-modules>=0.2.1->google-auth>=2.15.0->google-generativeai<0.6.0,>=0.5.2->langchain-google-genai) (0.6.0)\n",
      "Requirement already satisfied: charset-normalizer<4,>=2 in c:\\python310\\lib\\site-packages (from requests<3.0.0.dev0,>=2.18.0->google-api-core->google-generativeai<0.6.0,>=0.5.2->langchain-google-genai) (3.3.2)\n",
      "Requirement already satisfied: idna<4,>=2.5 in c:\\python310\\lib\\site-packages (from requests<3.0.0.dev0,>=2.18.0->google-api-core->google-generativeai<0.6.0,>=0.5.2->langchain-google-genai) (3.4)\n",
      "Requirement already satisfied: urllib3<3,>=1.21.1 in c:\\python310\\lib\\site-packages (from requests<3.0.0.dev0,>=2.18.0->google-api-core->google-generativeai<0.6.0,>=0.5.2->langchain-google-genai) (2.1.0)\n",
      "Requirement already satisfied: certifi>=2017.4.17 in c:\\python310\\lib\\site-packages (from requests<3.0.0.dev0,>=2.18.0->google-api-core->google-generativeai<0.6.0,>=0.5.2->langchain-google-genai) (2023.7.22)\n",
      "INFO: pip is looking at multiple versions of grpcio-status to determine which version is compatible with other requirements. This could take a while.\n",
      "  Using cached grpcio_status-1.63.0-py3-none-any.whl.metadata (1.1 kB)\n",
      "  Using cached grpcio_status-1.62.2-py3-none-any.whl.metadata (1.3 kB)\n",
      "Using cached langchain_google_genai-1.0.5-py3-none-any.whl (34 kB)\n",
      "Using cached google_generativeai-0.5.4-py3-none-any.whl (150 kB)\n",
      "Using cached google_ai_generativelanguage-0.6.4-py3-none-any.whl (679 kB)\n",
      "Using cached langchain_core-0.2.3-py3-none-any.whl (310 kB)\n",
      "Using cached google_api_core-2.19.0-py3-none-any.whl (139 kB)\n",
      "Using cached google_auth-2.29.0-py2.py3-none-any.whl (189 kB)\n",
      "Using cached google_api_python_client-2.131.0-py2.py3-none-any.whl (11.7 MB)\n",
      "Using cached google_auth_httplib2-0.2.0-py2.py3-none-any.whl (9.3 kB)\n",
      "Using cached googleapis_common_protos-1.63.0-py2.py3-none-any.whl (229 kB)\n",
      "Using cached httplib2-0.22.0-py3-none-any.whl (96 kB)\n",
      "Using cached proto_plus-1.23.0-py3-none-any.whl (48 kB)\n",
      "Using cached pyasn1_modules-0.4.0-py3-none-any.whl (181 kB)\n",
      "Using cached grpcio_status-1.62.2-py3-none-any.whl (14 kB)\n",
      "Installing collected packages: pyasn1-modules, proto-plus, httplib2, googleapis-common-protos, grpcio-status, google-auth, google-auth-httplib2, google-api-core, langchain-core, google-api-python-client, google-ai-generativelanguage, google-generativeai, langchain-google-genai\n",
      "Successfully installed google-ai-generativelanguage-0.6.4 google-api-core-2.19.0 google-api-python-client-2.131.0 google-auth-2.29.0 google-auth-httplib2-0.2.0 google-generativeai-0.5.4 googleapis-common-protos-1.63.0 grpcio-status-1.62.2 httplib2-0.22.0 langchain-core-0.2.3 langchain-google-genai-1.0.5 proto-plus-1.23.0 pyasn1-modules-0.4.0\n"
     ]
    },
    {
     "name": "stderr",
     "output_type": "stream",
     "text": [
      "WARNING: Ignoring invalid distribution - (c:\\python310\\lib\\site-packages)\n",
      "WARNING: Ignoring invalid distribution -angsmith (c:\\python310\\lib\\site-packages)\n",
      "WARNING: Ignoring invalid distribution -ip (c:\\python310\\lib\\site-packages)\n",
      "WARNING: Ignoring invalid distribution -lask (c:\\python310\\lib\\site-packages)\n",
      "WARNING: Ignoring invalid distribution -penai (c:\\python310\\lib\\site-packages)\n",
      "WARNING: Ignoring invalid distribution -p (c:\\python310\\lib\\site-packages)\n",
      "WARNING: Ignoring invalid distribution - (c:\\python310\\lib\\site-packages)\n",
      "WARNING: Ignoring invalid distribution -angsmith (c:\\python310\\lib\\site-packages)\n",
      "WARNING: Ignoring invalid distribution -ip (c:\\python310\\lib\\site-packages)\n",
      "WARNING: Ignoring invalid distribution -lask (c:\\python310\\lib\\site-packages)\n",
      "WARNING: Ignoring invalid distribution -penai (c:\\python310\\lib\\site-packages)\n",
      "WARNING: Ignoring invalid distribution -p (c:\\python310\\lib\\site-packages)\n"
     ]
    },
    {
     "name": "stdout",
     "output_type": "stream",
     "text": [
      "Requirement already satisfied: langchain-core in c:\\python310\\lib\\site-packages (0.2.3)\n",
      "Requirement already satisfied: PyYAML>=5.3 in c:\\python310\\lib\\site-packages (from langchain-core) (6.0.1)\n",
      "Requirement already satisfied: jsonpatch<2.0,>=1.33 in c:\\python310\\lib\\site-packages (from langchain-core) (1.33)\n",
      "Requirement already satisfied: langsmith<0.2.0,>=0.1.65 in c:\\python310\\lib\\site-packages (from langchain-core) (0.1.67)\n",
      "Requirement already satisfied: packaging<24.0,>=23.2 in c:\\python310\\lib\\site-packages (from langchain-core) (23.2)\n",
      "Requirement already satisfied: pydantic<3,>=1 in c:\\python310\\lib\\site-packages (from langchain-core) (2.5.0)\n",
      "Requirement already satisfied: tenacity<9.0.0,>=8.1.0 in c:\\python310\\lib\\site-packages (from langchain-core) (8.2.3)\n",
      "Requirement already satisfied: jsonpointer>=1.9 in c:\\python310\\lib\\site-packages (from jsonpatch<2.0,>=1.33->langchain-core) (2.4)\n",
      "Requirement already satisfied: orjson<4.0.0,>=3.9.14 in c:\\python310\\lib\\site-packages (from langsmith<0.2.0,>=0.1.65->langchain-core) (3.10.3)\n",
      "Requirement already satisfied: requests<3,>=2 in c:\\python310\\lib\\site-packages (from langsmith<0.2.0,>=0.1.65->langchain-core) (2.31.0)\n",
      "Requirement already satisfied: annotated-types>=0.4.0 in c:\\python310\\lib\\site-packages (from pydantic<3,>=1->langchain-core) (0.6.0)\n",
      "Requirement already satisfied: pydantic-core==2.14.1 in c:\\python310\\lib\\site-packages (from pydantic<3,>=1->langchain-core) (2.14.1)\n",
      "Requirement already satisfied: typing-extensions>=4.6.1 in c:\\python310\\lib\\site-packages (from pydantic<3,>=1->langchain-core) (4.8.0)\n",
      "Requirement already satisfied: charset-normalizer<4,>=2 in c:\\python310\\lib\\site-packages (from requests<3,>=2->langsmith<0.2.0,>=0.1.65->langchain-core) (3.3.2)\n",
      "Requirement already satisfied: idna<4,>=2.5 in c:\\python310\\lib\\site-packages (from requests<3,>=2->langsmith<0.2.0,>=0.1.65->langchain-core) (3.4)\n",
      "Requirement already satisfied: urllib3<3,>=1.21.1 in c:\\python310\\lib\\site-packages (from requests<3,>=2->langsmith<0.2.0,>=0.1.65->langchain-core) (2.1.0)\n",
      "Requirement already satisfied: certifi>=2017.4.17 in c:\\python310\\lib\\site-packages (from requests<3,>=2->langsmith<0.2.0,>=0.1.65->langchain-core) (2023.7.22)\n"
     ]
    },
    {
     "name": "stderr",
     "output_type": "stream",
     "text": [
      "WARNING: Ignoring invalid distribution - (c:\\python310\\lib\\site-packages)\n",
      "WARNING: Ignoring invalid distribution -angsmith (c:\\python310\\lib\\site-packages)\n",
      "WARNING: Ignoring invalid distribution -ip (c:\\python310\\lib\\site-packages)\n",
      "WARNING: Ignoring invalid distribution -lask (c:\\python310\\lib\\site-packages)\n",
      "WARNING: Ignoring invalid distribution -penai (c:\\python310\\lib\\site-packages)\n",
      "WARNING: Ignoring invalid distribution -p (c:\\python310\\lib\\site-packages)\n",
      "WARNING: Ignoring invalid distribution - (c:\\python310\\lib\\site-packages)\n",
      "WARNING: Ignoring invalid distribution -angsmith (c:\\python310\\lib\\site-packages)\n",
      "WARNING: Ignoring invalid distribution -ip (c:\\python310\\lib\\site-packages)\n",
      "WARNING: Ignoring invalid distribution -lask (c:\\python310\\lib\\site-packages)\n",
      "WARNING: Ignoring invalid distribution -penai (c:\\python310\\lib\\site-packages)\n",
      "WARNING: Ignoring invalid distribution -p (c:\\python310\\lib\\site-packages)\n"
     ]
    },
    {
     "name": "stdout",
     "output_type": "stream",
     "text": [
      "Requirement already satisfied: langchain in c:\\python310\\lib\\site-packages (0.0.335)\n",
      "Requirement already satisfied: PyYAML>=5.3 in c:\\python310\\lib\\site-packages (from langchain) (6.0.1)\n",
      "Requirement already satisfied: SQLAlchemy<3,>=1.4 in c:\\users\\aksha\\appdata\\roaming\\python\\python310\\site-packages (from langchain) (2.0.28)\n",
      "Requirement already satisfied: aiohttp<4.0.0,>=3.8.3 in c:\\python310\\lib\\site-packages (from langchain) (3.8.6)\n",
      "Requirement already satisfied: anyio<4.0 in c:\\python310\\lib\\site-packages (from langchain) (3.7.1)\n",
      "Requirement already satisfied: async-timeout<5.0.0,>=4.0.0 in c:\\python310\\lib\\site-packages (from langchain) (4.0.3)\n",
      "Requirement already satisfied: dataclasses-json<0.7,>=0.5.7 in c:\\python310\\lib\\site-packages (from langchain) (0.5.7)\n",
      "Requirement already satisfied: jsonpatch<2.0,>=1.33 in c:\\python310\\lib\\site-packages (from langchain) (1.33)\n",
      "Collecting langsmith<0.1.0,>=0.0.63 (from langchain)\n",
      "  Using cached langsmith-0.0.92-py3-none-any.whl.metadata (9.9 kB)\n",
      "Requirement already satisfied: numpy<2,>=1 in c:\\python310\\lib\\site-packages (from langchain) (1.26.2)\n",
      "Requirement already satisfied: pydantic<3,>=1 in c:\\python310\\lib\\site-packages (from langchain) (2.5.0)\n",
      "Requirement already satisfied: requests<3,>=2 in c:\\python310\\lib\\site-packages (from langchain) (2.31.0)\n",
      "Requirement already satisfied: tenacity<9.0.0,>=8.1.0 in c:\\python310\\lib\\site-packages (from langchain) (8.2.3)\n",
      "Requirement already satisfied: attrs>=17.3.0 in c:\\python310\\lib\\site-packages (from aiohttp<4.0.0,>=3.8.3->langchain) (23.1.0)\n",
      "Requirement already satisfied: charset-normalizer<4.0,>=2.0 in c:\\python310\\lib\\site-packages (from aiohttp<4.0.0,>=3.8.3->langchain) (3.3.2)\n",
      "Requirement already satisfied: multidict<7.0,>=4.5 in c:\\python310\\lib\\site-packages (from aiohttp<4.0.0,>=3.8.3->langchain) (6.0.4)\n",
      "Requirement already satisfied: yarl<2.0,>=1.0 in c:\\python310\\lib\\site-packages (from aiohttp<4.0.0,>=3.8.3->langchain) (1.9.2)\n",
      "Requirement already satisfied: frozenlist>=1.1.1 in c:\\python310\\lib\\site-packages (from aiohttp<4.0.0,>=3.8.3->langchain) (1.4.0)\n",
      "Requirement already satisfied: aiosignal>=1.1.2 in c:\\python310\\lib\\site-packages (from aiohttp<4.0.0,>=3.8.3->langchain) (1.3.1)\n",
      "Requirement already satisfied: idna>=2.8 in c:\\python310\\lib\\site-packages (from anyio<4.0->langchain) (3.4)\n",
      "Requirement already satisfied: sniffio>=1.1 in c:\\python310\\lib\\site-packages (from anyio<4.0->langchain) (1.3.0)\n",
      "Requirement already satisfied: exceptiongroup in c:\\python310\\lib\\site-packages (from anyio<4.0->langchain) (1.1.3)\n",
      "Requirement already satisfied: marshmallow<4.0.0,>=3.3.0 in c:\\python310\\lib\\site-packages (from dataclasses-json<0.7,>=0.5.7->langchain) (3.20.1)\n",
      "Requirement already satisfied: marshmallow-enum<2.0.0,>=1.5.1 in c:\\python310\\lib\\site-packages (from dataclasses-json<0.7,>=0.5.7->langchain) (1.5.1)\n",
      "Requirement already satisfied: typing-inspect>=0.4.0 in c:\\python310\\lib\\site-packages (from dataclasses-json<0.7,>=0.5.7->langchain) (0.9.0)\n",
      "Requirement already satisfied: jsonpointer>=1.9 in c:\\python310\\lib\\site-packages (from jsonpatch<2.0,>=1.33->langchain) (2.4)\n",
      "Requirement already satisfied: annotated-types>=0.4.0 in c:\\python310\\lib\\site-packages (from pydantic<3,>=1->langchain) (0.6.0)\n",
      "Requirement already satisfied: pydantic-core==2.14.1 in c:\\python310\\lib\\site-packages (from pydantic<3,>=1->langchain) (2.14.1)\n",
      "Requirement already satisfied: typing-extensions>=4.6.1 in c:\\python310\\lib\\site-packages (from pydantic<3,>=1->langchain) (4.8.0)\n",
      "Requirement already satisfied: urllib3<3,>=1.21.1 in c:\\python310\\lib\\site-packages (from requests<3,>=2->langchain) (2.1.0)\n",
      "Requirement already satisfied: certifi>=2017.4.17 in c:\\python310\\lib\\site-packages (from requests<3,>=2->langchain) (2023.7.22)\n",
      "Requirement already satisfied: greenlet!=0.4.17 in c:\\python310\\lib\\site-packages (from SQLAlchemy<3,>=1.4->langchain) (3.0.1)\n",
      "Requirement already satisfied: packaging>=17.0 in c:\\python310\\lib\\site-packages (from marshmallow<4.0.0,>=3.3.0->dataclasses-json<0.7,>=0.5.7->langchain) (23.2)\n",
      "Requirement already satisfied: mypy-extensions>=0.3.0 in c:\\python310\\lib\\site-packages (from typing-inspect>=0.4.0->dataclasses-json<0.7,>=0.5.7->langchain) (1.0.0)\n",
      "Using cached langsmith-0.0.92-py3-none-any.whl (56 kB)\n",
      "Installing collected packages: langsmith\n",
      "  Attempting uninstall: langsmith\n",
      "    Found existing installation: langsmith 0.1.67\n",
      "    Uninstalling langsmith-0.1.67:\n"
     ]
    },
    {
     "name": "stderr",
     "output_type": "stream",
     "text": [
      "WARNING: Ignoring invalid distribution - (c:\\python310\\lib\\site-packages)\n",
      "WARNING: Ignoring invalid distribution -angsmith (c:\\python310\\lib\\site-packages)\n",
      "WARNING: Ignoring invalid distribution -ip (c:\\python310\\lib\\site-packages)\n",
      "WARNING: Ignoring invalid distribution -lask (c:\\python310\\lib\\site-packages)\n",
      "WARNING: Ignoring invalid distribution -penai (c:\\python310\\lib\\site-packages)\n",
      "WARNING: Ignoring invalid distribution -p (c:\\python310\\lib\\site-packages)\n",
      "WARNING: Ignoring invalid distribution - (c:\\python310\\lib\\site-packages)\n",
      "WARNING: Ignoring invalid distribution -angsmith (c:\\python310\\lib\\site-packages)\n",
      "WARNING: Ignoring invalid distribution -ip (c:\\python310\\lib\\site-packages)\n",
      "WARNING: Ignoring invalid distribution -lask (c:\\python310\\lib\\site-packages)\n",
      "WARNING: Ignoring invalid distribution -penai (c:\\python310\\lib\\site-packages)\n",
      "WARNING: Ignoring invalid distribution -p (c:\\python310\\lib\\site-packages)\n",
      "ERROR: Could not install packages due to an OSError: [WinError 5] Access is denied: 'c:\\\\python310\\\\scripts\\\\langsmith.exe'\n",
      "Consider using the `--user` option or check the permissions.\n",
      "\n"
     ]
    },
    {
     "name": "stdout",
     "output_type": "stream",
     "text": [
      "Collecting langchain-community\n",
      "  Using cached langchain_community-0.2.1-py3-none-any.whl.metadata (8.9 kB)\n",
      "Requirement already satisfied: PyYAML>=5.3 in c:\\python310\\lib\\site-packages (from langchain-community) (6.0.1)\n",
      "Requirement already satisfied: SQLAlchemy<3,>=1.4 in c:\\users\\aksha\\appdata\\roaming\\python\\python310\\site-packages (from langchain-community) (2.0.28)\n",
      "Requirement already satisfied: aiohttp<4.0.0,>=3.8.3 in c:\\python310\\lib\\site-packages (from langchain-community) (3.8.6)\n",
      "Requirement already satisfied: dataclasses-json<0.7,>=0.5.7 in c:\\python310\\lib\\site-packages (from langchain-community) (0.5.7)\n",
      "Collecting langchain<0.3.0,>=0.2.0 (from langchain-community)\n",
      "  Using cached langchain-0.2.1-py3-none-any.whl.metadata (13 kB)\n",
      "Requirement already satisfied: langchain-core<0.3.0,>=0.2.0 in c:\\python310\\lib\\site-packages (from langchain-community) (0.2.3)\n",
      "Collecting langsmith<0.2.0,>=0.1.0 (from langchain-community)\n",
      "  Using cached langsmith-0.1.67-py3-none-any.whl.metadata (13 kB)\n",
      "Requirement already satisfied: numpy<2,>=1 in c:\\python310\\lib\\site-packages (from langchain-community) (1.26.2)\n",
      "Requirement already satisfied: requests<3,>=2 in c:\\python310\\lib\\site-packages (from langchain-community) (2.31.0)\n",
      "Requirement already satisfied: tenacity<9.0.0,>=8.1.0 in c:\\python310\\lib\\site-packages (from langchain-community) (8.2.3)\n",
      "Requirement already satisfied: attrs>=17.3.0 in c:\\python310\\lib\\site-packages (from aiohttp<4.0.0,>=3.8.3->langchain-community) (23.1.0)\n",
      "Requirement already satisfied: charset-normalizer<4.0,>=2.0 in c:\\python310\\lib\\site-packages (from aiohttp<4.0.0,>=3.8.3->langchain-community) (3.3.2)\n",
      "Requirement already satisfied: multidict<7.0,>=4.5 in c:\\python310\\lib\\site-packages (from aiohttp<4.0.0,>=3.8.3->langchain-community) (6.0.4)\n",
      "Requirement already satisfied: async-timeout<5.0,>=4.0.0a3 in c:\\python310\\lib\\site-packages (from aiohttp<4.0.0,>=3.8.3->langchain-community) (4.0.3)\n",
      "Requirement already satisfied: yarl<2.0,>=1.0 in c:\\python310\\lib\\site-packages (from aiohttp<4.0.0,>=3.8.3->langchain-community) (1.9.2)\n",
      "Requirement already satisfied: frozenlist>=1.1.1 in c:\\python310\\lib\\site-packages (from aiohttp<4.0.0,>=3.8.3->langchain-community) (1.4.0)\n",
      "Requirement already satisfied: aiosignal>=1.1.2 in c:\\python310\\lib\\site-packages (from aiohttp<4.0.0,>=3.8.3->langchain-community) (1.3.1)\n",
      "Requirement already satisfied: marshmallow<4.0.0,>=3.3.0 in c:\\python310\\lib\\site-packages (from dataclasses-json<0.7,>=0.5.7->langchain-community) (3.20.1)\n",
      "Requirement already satisfied: marshmallow-enum<2.0.0,>=1.5.1 in c:\\python310\\lib\\site-packages (from dataclasses-json<0.7,>=0.5.7->langchain-community) (1.5.1)\n",
      "Requirement already satisfied: typing-inspect>=0.4.0 in c:\\python310\\lib\\site-packages (from dataclasses-json<0.7,>=0.5.7->langchain-community) (0.9.0)\n",
      "Collecting langchain-text-splitters<0.3.0,>=0.2.0 (from langchain<0.3.0,>=0.2.0->langchain-community)\n",
      "  Using cached langchain_text_splitters-0.2.0-py3-none-any.whl.metadata (2.2 kB)\n",
      "Requirement already satisfied: pydantic<3,>=1 in c:\\python310\\lib\\site-packages (from langchain<0.3.0,>=0.2.0->langchain-community) (2.5.0)\n",
      "Requirement already satisfied: jsonpatch<2.0,>=1.33 in c:\\python310\\lib\\site-packages (from langchain-core<0.3.0,>=0.2.0->langchain-community) (1.33)\n",
      "Requirement already satisfied: packaging<24.0,>=23.2 in c:\\python310\\lib\\site-packages (from langchain-core<0.3.0,>=0.2.0->langchain-community) (23.2)\n",
      "Requirement already satisfied: orjson<4.0.0,>=3.9.14 in c:\\python310\\lib\\site-packages (from langsmith<0.2.0,>=0.1.0->langchain-community) (3.10.3)\n",
      "Requirement already satisfied: idna<4,>=2.5 in c:\\python310\\lib\\site-packages (from requests<3,>=2->langchain-community) (3.4)\n",
      "Requirement already satisfied: urllib3<3,>=1.21.1 in c:\\python310\\lib\\site-packages (from requests<3,>=2->langchain-community) (2.1.0)\n",
      "Requirement already satisfied: certifi>=2017.4.17 in c:\\python310\\lib\\site-packages (from requests<3,>=2->langchain-community) (2023.7.22)\n",
      "Requirement already satisfied: typing-extensions>=4.6.0 in c:\\python310\\lib\\site-packages (from SQLAlchemy<3,>=1.4->langchain-community) (4.8.0)\n",
      "Requirement already satisfied: greenlet!=0.4.17 in c:\\python310\\lib\\site-packages (from SQLAlchemy<3,>=1.4->langchain-community) (3.0.1)\n",
      "Requirement already satisfied: jsonpointer>=1.9 in c:\\python310\\lib\\site-packages (from jsonpatch<2.0,>=1.33->langchain-core<0.3.0,>=0.2.0->langchain-community) (2.4)\n",
      "Requirement already satisfied: annotated-types>=0.4.0 in c:\\python310\\lib\\site-packages (from pydantic<3,>=1->langchain<0.3.0,>=0.2.0->langchain-community) (0.6.0)\n",
      "Requirement already satisfied: pydantic-core==2.14.1 in c:\\python310\\lib\\site-packages (from pydantic<3,>=1->langchain<0.3.0,>=0.2.0->langchain-community) (2.14.1)\n",
      "Requirement already satisfied: mypy-extensions>=0.3.0 in c:\\python310\\lib\\site-packages (from typing-inspect>=0.4.0->dataclasses-json<0.7,>=0.5.7->langchain-community) (1.0.0)\n",
      "Using cached langchain_community-0.2.1-py3-none-any.whl (2.1 MB)\n",
      "Using cached langchain-0.2.1-py3-none-any.whl (973 kB)\n",
      "Using cached langsmith-0.1.67-py3-none-any.whl (124 kB)\n",
      "Using cached langchain_text_splitters-0.2.0-py3-none-any.whl (23 kB)\n",
      "Installing collected packages: langsmith, langchain-text-splitters, langchain, langchain-community\n"
     ]
    },
    {
     "name": "stderr",
     "output_type": "stream",
     "text": [
      "WARNING: Ignoring invalid distribution - (c:\\python310\\lib\\site-packages)\n",
      "WARNING: Ignoring invalid distribution -angsmith (c:\\python310\\lib\\site-packages)\n",
      "WARNING: Ignoring invalid distribution -ip (c:\\python310\\lib\\site-packages)\n",
      "WARNING: Ignoring invalid distribution -lask (c:\\python310\\lib\\site-packages)\n",
      "WARNING: Ignoring invalid distribution -penai (c:\\python310\\lib\\site-packages)\n",
      "WARNING: Ignoring invalid distribution -p (c:\\python310\\lib\\site-packages)\n",
      "WARNING: Ignoring invalid distribution - (c:\\python310\\lib\\site-packages)\n",
      "WARNING: Ignoring invalid distribution -angsmith (c:\\python310\\lib\\site-packages)\n",
      "WARNING: Ignoring invalid distribution -ip (c:\\python310\\lib\\site-packages)\n",
      "WARNING: Ignoring invalid distribution -lask (c:\\python310\\lib\\site-packages)\n",
      "WARNING: Ignoring invalid distribution -penai (c:\\python310\\lib\\site-packages)\n",
      "WARNING: Ignoring invalid distribution -p (c:\\python310\\lib\\site-packages)\n",
      "  WARNING: Failed to write executable - trying to use .deleteme logic\n",
      "ERROR: Could not install packages due to an OSError: [WinError 5] Access is denied: 'C:\\\\Python310\\\\Scripts\\\\langsmith.exe' -> 'C:\\\\Python310\\\\Scripts\\\\langsmith.exe.deleteme'\n",
      "Consider using the `--user` option or check the permissions.\n",
      "\n"
     ]
    }
   ],
   "source": [
    "!pip install langchain-groq\n",
    "!pip install openai\n",
    "\n",
    "!pip install langchain-google-genai\n",
    "!pip install langchain-core \n",
    "!pip install langchain\n",
    "!pip install langchain-community"
   ]
  },
  {
   "cell_type": "code",
   "execution_count": 8,
   "id": "f9f0035d",
   "metadata": {},
   "outputs": [
    {
     "name": "stdout",
     "output_type": "stream",
     "text": [
      "Collecting langchain-openai\n",
      "  Using cached langchain_openai-0.1.8-py3-none-any.whl.metadata (2.5 kB)\n",
      "Requirement already satisfied: langchain-core<0.3,>=0.2.2 in c:\\python310\\lib\\site-packages (from langchain-openai) (0.2.3)\n",
      "Requirement already satisfied: openai<2.0.0,>=1.26.0 in c:\\python310\\lib\\site-packages (from langchain-openai) (1.30.5)\n",
      "Requirement already satisfied: tiktoken<1,>=0.7 in c:\\python310\\lib\\site-packages (from langchain-openai) (0.7.0)\n",
      "Requirement already satisfied: PyYAML>=5.3 in c:\\python310\\lib\\site-packages (from langchain-core<0.3,>=0.2.2->langchain-openai) (6.0.1)\n",
      "Requirement already satisfied: jsonpatch<2.0,>=1.33 in c:\\python310\\lib\\site-packages (from langchain-core<0.3,>=0.2.2->langchain-openai) (1.33)\n",
      "Requirement already satisfied: langsmith<0.2.0,>=0.1.65 in c:\\python310\\lib\\site-packages (from langchain-core<0.3,>=0.2.2->langchain-openai) (0.1.67)\n",
      "Requirement already satisfied: packaging<24.0,>=23.2 in c:\\python310\\lib\\site-packages (from langchain-core<0.3,>=0.2.2->langchain-openai) (23.2)\n",
      "Requirement already satisfied: pydantic<3,>=1 in c:\\python310\\lib\\site-packages (from langchain-core<0.3,>=0.2.2->langchain-openai) (2.5.0)\n",
      "Requirement already satisfied: tenacity<9.0.0,>=8.1.0 in c:\\python310\\lib\\site-packages (from langchain-core<0.3,>=0.2.2->langchain-openai) (8.2.3)\n",
      "Requirement already satisfied: anyio<5,>=3.5.0 in c:\\python310\\lib\\site-packages (from openai<2.0.0,>=1.26.0->langchain-openai) (3.7.1)\n",
      "Requirement already satisfied: distro<2,>=1.7.0 in c:\\python310\\lib\\site-packages (from openai<2.0.0,>=1.26.0->langchain-openai) (1.9.0)\n",
      "Requirement already satisfied: httpx<1,>=0.23.0 in c:\\python310\\lib\\site-packages (from openai<2.0.0,>=1.26.0->langchain-openai) (0.27.0)\n",
      "Requirement already satisfied: sniffio in c:\\python310\\lib\\site-packages (from openai<2.0.0,>=1.26.0->langchain-openai) (1.3.0)\n",
      "Requirement already satisfied: tqdm>4 in c:\\python310\\lib\\site-packages (from openai<2.0.0,>=1.26.0->langchain-openai) (4.66.1)\n",
      "Requirement already satisfied: typing-extensions<5,>=4.7 in c:\\python310\\lib\\site-packages (from openai<2.0.0,>=1.26.0->langchain-openai) (4.8.0)\n",
      "Requirement already satisfied: regex>=2022.1.18 in c:\\python310\\lib\\site-packages (from tiktoken<1,>=0.7->langchain-openai) (2023.10.3)\n",
      "Requirement already satisfied: requests>=2.26.0 in c:\\python310\\lib\\site-packages (from tiktoken<1,>=0.7->langchain-openai) (2.31.0)\n",
      "Requirement already satisfied: idna>=2.8 in c:\\python310\\lib\\site-packages (from anyio<5,>=3.5.0->openai<2.0.0,>=1.26.0->langchain-openai) (3.4)\n",
      "Requirement already satisfied: exceptiongroup in c:\\python310\\lib\\site-packages (from anyio<5,>=3.5.0->openai<2.0.0,>=1.26.0->langchain-openai) (1.1.3)\n",
      "Requirement already satisfied: certifi in c:\\python310\\lib\\site-packages (from httpx<1,>=0.23.0->openai<2.0.0,>=1.26.0->langchain-openai) (2023.7.22)\n",
      "Requirement already satisfied: httpcore==1.* in c:\\python310\\lib\\site-packages (from httpx<1,>=0.23.0->openai<2.0.0,>=1.26.0->langchain-openai) (1.0.5)\n",
      "Requirement already satisfied: h11<0.15,>=0.13 in c:\\python310\\lib\\site-packages (from httpcore==1.*->httpx<1,>=0.23.0->openai<2.0.0,>=1.26.0->langchain-openai) (0.14.0)\n",
      "Requirement already satisfied: jsonpointer>=1.9 in c:\\python310\\lib\\site-packages (from jsonpatch<2.0,>=1.33->langchain-core<0.3,>=0.2.2->langchain-openai) (2.4)\n",
      "Requirement already satisfied: orjson<4.0.0,>=3.9.14 in c:\\python310\\lib\\site-packages (from langsmith<0.2.0,>=0.1.65->langchain-core<0.3,>=0.2.2->langchain-openai) (3.10.3)\n",
      "Requirement already satisfied: annotated-types>=0.4.0 in c:\\python310\\lib\\site-packages (from pydantic<3,>=1->langchain-core<0.3,>=0.2.2->langchain-openai) (0.6.0)\n",
      "Requirement already satisfied: pydantic-core==2.14.1 in c:\\python310\\lib\\site-packages (from pydantic<3,>=1->langchain-core<0.3,>=0.2.2->langchain-openai) (2.14.1)\n",
      "Requirement already satisfied: charset-normalizer<4,>=2 in c:\\python310\\lib\\site-packages (from requests>=2.26.0->tiktoken<1,>=0.7->langchain-openai) (3.3.2)\n",
      "Requirement already satisfied: urllib3<3,>=1.21.1 in c:\\python310\\lib\\site-packages (from requests>=2.26.0->tiktoken<1,>=0.7->langchain-openai) (2.1.0)\n",
      "Requirement already satisfied: colorama in c:\\python310\\lib\\site-packages (from tqdm>4->openai<2.0.0,>=1.26.0->langchain-openai) (0.4.6)\n",
      "Using cached langchain_openai-0.1.8-py3-none-any.whl (38 kB)\n",
      "Installing collected packages: langchain-openai\n",
      "Successfully installed langchain-openai-0.1.8\n"
     ]
    },
    {
     "name": "stderr",
     "output_type": "stream",
     "text": [
      "WARNING: Ignoring invalid distribution - (c:\\python310\\lib\\site-packages)\n",
      "WARNING: Ignoring invalid distribution -angsmith (c:\\python310\\lib\\site-packages)\n",
      "WARNING: Ignoring invalid distribution -ip (c:\\python310\\lib\\site-packages)\n",
      "WARNING: Ignoring invalid distribution -lask (c:\\python310\\lib\\site-packages)\n",
      "WARNING: Ignoring invalid distribution -penai (c:\\python310\\lib\\site-packages)\n",
      "WARNING: Ignoring invalid distribution -p (c:\\python310\\lib\\site-packages)\n",
      "WARNING: Ignoring invalid distribution - (c:\\python310\\lib\\site-packages)\n",
      "WARNING: Ignoring invalid distribution -angsmith (c:\\python310\\lib\\site-packages)\n",
      "WARNING: Ignoring invalid distribution -ip (c:\\python310\\lib\\site-packages)\n",
      "WARNING: Ignoring invalid distribution -lask (c:\\python310\\lib\\site-packages)\n",
      "WARNING: Ignoring invalid distribution -penai (c:\\python310\\lib\\site-packages)\n",
      "WARNING: Ignoring invalid distribution -p (c:\\python310\\lib\\site-packages)\n"
     ]
    }
   ],
   "source": [
    "!pip install langchain-openai"
   ]
  },
  {
   "cell_type": "code",
   "execution_count": 9,
   "id": "677a9fd8-4ca1-46a6-b27f-6a1642d2a1bb",
   "metadata": {
    "tags": []
   },
   "outputs": [],
   "source": [
    "from langchain_core.prompts import ChatPromptTemplate\n",
    "from langchain_groq import ChatGroq\n",
    "from langchain_openai import ChatOpenAI\n",
    "import inspect\n",
    "\n",
    "# Processing the AIMesaage and converting it to human Message\n",
    "\n",
    "from langchain_core.messages.ai import AIMessage\n",
    "from langchain_core.messages.human import HumanMessage\n",
    "from langchain_core.output_parsers import StrOutputParser"
   ]
  },
  {
   "cell_type": "markdown",
   "id": "86340705-dff0-4c27-8531-b57b33457372",
   "metadata": {},
   "source": [
    "## Using Zhipuai library ---- CogVLM2"
   ]
  },
  {
   "cell_type": "code",
   "execution_count": null,
   "id": "9dd2fc30-90d2-45b0-9379-8b670f29f326",
   "metadata": {
    "collapsed": true,
    "jupyter": {
     "outputs_hidden": true
    },
    "tags": []
   },
   "outputs": [],
   "source": [
    "!pip install zhipuai"
   ]
  },
  {
   "cell_type": "code",
   "execution_count": null,
   "id": "f5295248-93d3-4fec-8523-2dd6f6be62f6",
   "metadata": {
    "collapsed": true,
    "jupyter": {
     "outputs_hidden": true
    },
    "tags": []
   },
   "outputs": [],
   "source": [
    "from zhipuai import ZhipuAI\n",
    "client = ZhipuAI(api_key=\"<----Your API Key---->\")\n",
    "\n",
    "response = client.chat.completions.create(\n",
    "    model=\"glm-4v\",\n",
    "    messages=[\n",
    "    {\n",
    "      \"role\": \"user\",\n",
    "      \"content\": [\n",
    "        {\"type\": \"text\", \"text\": \"What’s in this image?\"},\n",
    "        {\n",
    "          \"type\": \"image_url\",\n",
    "          \"image_url\": {\n",
    "            \"url\": \"https://upload.wikimedia.org/wikipedia/commons/thumb/d/dd/Gfp-wisconsin-madison-the-nature-boardwalk.jpg/2560px-Gfp-wisconsin-madison-the-nature-boardwalk.jpg\",\n",
    "          },\n",
    "        },\n",
    "      ],\n",
    "    }\n",
    "  ],\n",
    ")\n",
    "print(response.choices[0].message)"
   ]
  },
  {
   "cell_type": "markdown",
   "id": "259cad13-a311-4f58-9937-513987b2090e",
   "metadata": {},
   "source": [
    "### Using OpenAI library "
   ]
  },
  {
   "cell_type": "code",
   "execution_count": 44,
   "id": "3f6ee5fe-fd2d-4211-b734-b5661629b782",
   "metadata": {
    "tags": []
   },
   "outputs": [
    {
     "name": "stdout",
     "output_type": "stream",
     "text": [
      "Choice(finish_reason='stop', index=0, logprobs=None, message=ChatCompletionMessage(content='The image shows a wooden boardwalk path running through a grassy meadow. The sky is mostly clear with a few scattered clouds, creating a bright and serene atmosphere. Trees and shrubs are visible in the distance, adding to the overall natural and peaceful setting.', role='assistant', function_call=None, tool_calls=None))\n"
     ]
    }
   ],
   "source": [
    "from openai import OpenAI\n",
    "\n",
    "client = OpenAI(api_key=api_key)\n",
    "\n",
    "response = client.chat.completions.create(\n",
    "  model=\"gpt-4o\",\n",
    "  messages=[\n",
    "    {\n",
    "      \"role\": \"user\",\n",
    "      \"content\": [\n",
    "        {\"type\": \"text\", \"text\": \"What’s in this image?\"},\n",
    "        {\n",
    "          \"type\": \"image_url\",\n",
    "          \"image_url\": {\n",
    "            \"url\": \"https://upload.wikimedia.org/wikipedia/commons/thumb/d/dd/Gfp-wisconsin-madison-the-nature-boardwalk.jpg/2560px-Gfp-wisconsin-madison-the-nature-boardwalk.jpg\",\n",
    "          },\n",
    "        },\n",
    "      ],\n",
    "    }\n",
    "  ],\n",
    "  max_tokens=300,\n",
    ")\n",
    "\n",
    "print(response.choices[0])"
   ]
  },
  {
   "cell_type": "markdown",
   "id": "70eef118-d429-42ad-9b5e-7f477c08d4e9",
   "metadata": {},
   "source": [
    "## Using Langchain performing single image to text"
   ]
  },
  {
   "cell_type": "code",
   "execution_count": 10,
   "id": "00e06a5e-3a64-4a63-9202-5f9efa44bce9",
   "metadata": {
    "tags": []
   },
   "outputs": [],
   "source": [
    "############ Using Llama3 ##################\n",
    "\n",
    "#groq_api_key=\"<----Your API Key---->\"\n",
    "#model_name=\"llama3-70b-8192\"\n",
    "\n",
    "############ Using Gemini ##################\n",
    "\n",
    "#google_api_key=\"<----Your API Key---->\"\n",
    "#model_name=\"gemini-pro\"\n",
    "\n",
    "############ Using Openai ##################\n",
    "\n",
    "#Using Openai\n",
    "model_name=\"gpt-4o\"\n",
    "#openaikey\n",
    "api_key=\"sk-proj-cNNYMrgX6X57PzyWBGtNT3BlbkFJILJez1oSlVUC2nSp0Vy1\"\n",
    "\n",
    "\n",
    "############ Using Openai ##################\n",
    "model_name=\"gpt-4o\"\n",
    "api_key=\"<----Your API Key---->\"\n",
    "base_url=\"https://api.theb.ai/v1\""
   ]
  },
  {
   "cell_type": "code",
   "execution_count": 11,
   "id": "aa6e1b18-2df7-4f9e-b543-ed3dcfc7c812",
   "metadata": {
    "tags": []
   },
   "outputs": [],
   "source": [
    "system = \"Convert the following document form image to text as it is.\\\n",
    "Please do not ask or add any extra information.\\\n",
    "Make section for code block.\\\n",
    "Provide the Mathematical expressions in latex format.\\\n",
    "Provide the tables and digrams in latex format \""
   ]
  },
  {
   "cell_type": "code",
   "execution_count": 71,
   "id": "80cb6278-5c3e-4238-9826-36ec6ecc3a1e",
   "metadata": {},
   "outputs": [],
   "source": [
    "image_url = 'https://raw.githubusercontent.com/Dhruvsahu98/prev-yrs-data-bs-ds/main/MLP/Quiz-1/Oct-2022/input/page_186.jpeg'\n",
    "\n",
    "#image_url='https://raw.githubusercontent.com/langchain-ai/langchain/master/docs/static/img/langchain_stack.png'"
   ]
  },
  {
   "cell_type": "code",
   "execution_count": 72,
   "id": "15c3dec8-81c2-4059-84ed-1ccc6031ffca",
   "metadata": {
    "tags": []
   },
   "outputs": [],
   "source": [
    "from langchain.chat_models import ChatOpenAI\n",
    "from langchain.schema.messages import HumanMessage, SystemMessage\n",
    "\n",
    "chat = ChatOpenAI(model=model_name,openai_api_key=api_key, max_tokens=4095)\n",
    "#chat = ChatOpenAI(model=model,api_key=api_key,base_url=base_url,max_tokens=4095)\n",
    "\n",
    "output = chat.invoke(\n",
    "    [\n",
    "        HumanMessage(\n",
    "            content=[\n",
    "                {\"type\": \"text\", \"text\": system},\n",
    "                {\n",
    "                    \"type\": \"image_url\",\n",
    "                    \"image_url\": {\n",
    "                        \"url\": image_url ,\n",
    "                        \"detail\": \"auto\",\n",
    "                    },\n",
    "                },\n",
    "            ]\n",
    "        )\n",
    "    ]\n",
    ")"
   ]
  },
  {
   "cell_type": "code",
   "execution_count": 73,
   "id": "6b4c0dbc-51a0-4bb3-afbb-b0735b97955a",
   "metadata": {},
   "outputs": [
    {
     "name": "stdout",
     "output_type": "stream",
     "text": [
      "Which of the following options is likely to be the correct output of the code snippet given below?\n",
      "\n",
      "```\n",
      "import numpy as np\n",
      "from sklearn.preprocessing import MaxAbsScaler\n",
      "x= np.array([3, 2, 5, -4, -21]).reshape(-1,1)\n",
      "mas = MaxAbsScaler()\n",
      "x_new = mas.fit_transform(x)\n",
      "print(x_new)\n",
      "```\n",
      "\n",
      "**Options:**\n",
      "\n",
      "1. 6406531285659. ✅\n",
      "   \\[\n",
      "   \\begin{bmatrix}\n",
      "   0.14285714 & 0.0952381 & 0.23809524 & -0.19047619 & -1.\n",
      "   \\end{bmatrix}\n",
      "   \\]\n",
      "\n",
      "2. 6406531285660. ❌\n",
      "   \\[\n",
      "   \\begin{bmatrix}\n",
      "   0.14285714 & 0.0952381 & -0.23809524 & -1.19047619 & -0.\n",
      "   \\end{bmatrix}\n",
      "   \\]\n",
      "\n",
      "3. 6406531285661. ❌\n",
      "   \\[\n",
      "   \\begin{bmatrix}\n",
      "   0.14285714 & 0.0952381 & 0.23809524 & -0.19047619 & 1.2134245\n",
      "   \\end{bmatrix}\n",
      "   \\]\n",
      "\n",
      "4. 6406531285662. ❌\n",
      "   \\[\n",
      "   \\begin{bmatrix}\n",
      "   0.0952381 & 0.23809524 & -0.19047619 & -1.\n",
      "   \\end{bmatrix}\n",
      "   \\]\n",
      "\n",
      "---\n",
      "\n",
      "**Question Number:** 193  \n",
      "**Question Id:** 640653386579  \n",
      "**Question Type:** MCQ  \n",
      "**Is Question Mandatory:** No  \n",
      "**Calculator:** None  \n",
      "**Response Time:** N.A  \n",
      "**Think Time:** N.A  \n",
      "**Minimum Instruction Time:** 0\n",
      "\n",
      "**Correct Marks:** 2\n",
      "\n",
      "**Question Label:** Multiple Choice Question\n",
      "\n",
      "In the figure 1, what are the names of classes arranged in the increasing order of the median values?\n"
     ]
    }
   ],
   "source": [
    "print(output.content)"
   ]
  },
  {
   "cell_type": "code",
   "execution_count": 86,
   "id": "60540157-0762-48b6-b6d5-05170b586d0d",
   "metadata": {
    "tags": []
   },
   "outputs": [],
   "source": [
    "## Creating the copy of file in local\n",
    "\n",
    "with open('output/output.txt', 'w') as f:\n",
    "    f.write(str(output.content))"
   ]
  },
  {
   "cell_type": "markdown",
   "id": "aaa064fc-35ff-44cf-9779-eb75c93a6373",
   "metadata": {},
   "source": [
    "## Image to text Extraction for all images"
   ]
  },
  {
   "cell_type": "code",
   "execution_count": 75,
   "id": "c570f5ec-8079-49a9-9513-10583c205088",
   "metadata": {
    "tags": []
   },
   "outputs": [],
   "source": [
    "\n",
    "############ Using Llama3 ##################\n",
    "\n",
    "#groq_api_key=\"<----Your API Key---->\"\n",
    "#model_name=\"llama3-70b-8192\"\n",
    "\n",
    "############ Using Gemini ##################\n",
    "\n",
    "#google_api_key=\"<----Your API Key---->\"\n",
    "#model_name=\"gemini-pro\"\n",
    "\n",
    "############ Using Openai ##################\n",
    "\n",
    "model_name=\"gpt-4o\"\n",
    "api_key=\"sk-proj-cNNYMrgX6X57PzyWBGtNT3BlbkFJILJez1oSlVUC2nSp0Vy1\"\n",
    "\n",
    "\n",
    "############ Using Openai ##################\n",
    "#model_name=\"gpt-4o\"\n",
    "#api_key=\"<----Your API Key---->\"\n",
    "#base_url=\"https://api.theb.ai/v1\""
   ]
  },
  {
   "cell_type": "code",
   "execution_count": 76,
   "id": "3c4c8853-d95a-4727-aa48-693299dcfce8",
   "metadata": {
    "tags": []
   },
   "outputs": [],
   "source": [
    "system =  \"Convert the following document form image to text as it is.\\\n",
    "Please do not ask or add any extra information.\\\n",
    "Make section for code block in python format.\\\n",
    "Provide the Mathematical expressions in latex format.\\\n",
    "Provide the tables and digrams in latex format.\\\n",
    "Please do not throw any error if the image is not clear or not able to read.\""
   ]
  },
  {
   "cell_type": "code",
   "execution_count": 77,
   "id": "2a3af885-4cca-495d-8f33-bae9dc9cd9b4",
   "metadata": {},
   "outputs": [],
   "source": [
    "## Implementing base url\n",
    "\n",
    "base_url = 'https://raw.githubusercontent.com/Dhruvsahu98/prev-yrs-data-bs-ds/main/MLP/Quiz-1/Oct-2022/input/'\n",
    "filename_base = 'page_'\n",
    "token = ''\n",
    "\n",
    "page_start=182\n",
    "page_end=197\n",
    "\n",
    "output_folder_location= 'C:\\\\Users\\\\aksha\\\\Desktop\\\\MADII\\\\IITM\\\\New\\\\prev-yrs-data-bs-ds\\\\MLP\\\\Quiz-1\\\\Oct-2022\\\\output'"
   ]
  },
  {
   "cell_type": "code",
   "execution_count": 78,
   "id": "4d1df548-a43d-44f0-86b7-183da8037255",
   "metadata": {
    "tags": []
   },
   "outputs": [],
   "source": [
    "from langchain.chat_models import ChatOpenAI\n",
    "from langchain.schema.messages import HumanMessage, SystemMessage\n",
    "\n",
    "model = ChatOpenAI(model=model_name,openai_api_key=api_key, max_tokens=4095)\n",
    "\n",
    "## BAI Chat model\n",
    "#model = ChatOpenAI(model=model_name,openai_api_key=api_key,base_url=base_url, max_tokens=4095)"
   ]
  },
  {
   "cell_type": "code",
   "execution_count": 81,
   "id": "65efab08-5ac8-48f3-9ea5-494aed79fdc8",
   "metadata": {
    "tags": []
   },
   "outputs": [],
   "source": [
    "######### Error handled in the following code ############\n",
    "\n",
    "def getImageUrl(input):\n",
    "    try:\n",
    "        image_url = f\"{base_url}{filename_base}{input}.jpeg{token}\"\n",
    "        return image_url\n",
    "    except Exception as e:\n",
    "        print(f\"An error  occurred in Url name Assembly: {e}\")\n",
    "\n",
    "def invokeModel(image_url):\n",
    "    try:\n",
    "        return model.invoke(\n",
    "            [\n",
    "                HumanMessage(\n",
    "                    content=[\n",
    "                        {\"type\": \"text\", \"text\": system},\n",
    "                        {\n",
    "                            \"type\": \"image_url\",\n",
    "                            \"image_url\": {\n",
    "                                \"url\": image_url,\n",
    "                                \"detail\": \"auto\",\n",
    "                            },\n",
    "                        },\n",
    "                    ]\n",
    "                )\n",
    "            ]\n",
    "        )\n",
    "    except Exception as e:\n",
    "        print(f\"An error invokeModel occurred: {e}\")\n",
    "\n",
    "# def storingFile(i, output):\n",
    "#     try:\n",
    "#         with open(f'{output_folder_location}\\{filename_base}{i}.txt', 'w') as f:\n",
    "#             f.write(str(output.content))\n",
    "#     except Exception as e:\n",
    "#         print(f\"An error in storingFile occurred: {e}\")\n",
    "def storingFile(i, output):\n",
    "    try:\n",
    "        with open(f'{output_folder_location}\\{filename_base}{i}.txt', 'w', encoding='utf-8', errors='replace') as f:\n",
    "            f.write(str(output.content))\n",
    "    except Exception as e:\n",
    "        print(f\"An error in storingFile occurred: {e}\")"
   ]
  },
  {
   "cell_type": "code",
   "execution_count": null,
   "id": "4dcfc574-6904-44a2-9b79-89e6935faf9f",
   "metadata": {
    "tags": []
   },
   "outputs": [],
   "source": [
    "import copy\n",
    "import time\n",
    "\n",
    "for i in range(page_start, page_end+1):\n",
    "    try:\n",
    "        image_url = getImageUrl(i)\n",
    "        print(f'Using image url : {image_url}')\n",
    "        output = invokeModel(image_url)\n",
    "        time.sleep(10)\n",
    "        storingFile(i, copy.deepcopy(output))\n",
    "        print(f'Output : {output.content}')\n",
    "    except Exception as e:\n",
    "        print(f\"An error occurred in Execution block: {e}\")"
   ]
  },
  {
   "cell_type": "code",
   "execution_count": null,
   "id": "6c8417d2-6d3f-4d73-9594-19fc78145ad3",
   "metadata": {},
   "outputs": [],
   "source": []
  },
  {
   "cell_type": "code",
   "execution_count": null,
   "id": "a9edabec-36eb-4a0c-9d57-98ba17b691ee",
   "metadata": {},
   "outputs": [],
   "source": []
  }
 ],
 "metadata": {
  "kernelspec": {
   "display_name": "Python 3 (ipykernel)",
   "language": "python",
   "name": "python3"
  },
  "language_info": {
   "codemirror_mode": {
    "name": "ipython",
    "version": 3
   },
   "file_extension": ".py",
   "mimetype": "text/x-python",
   "name": "python",
   "nbconvert_exporter": "python",
   "pygments_lexer": "ipython3",
   "version": "3.10.2"
  }
 },
 "nbformat": 4,
 "nbformat_minor": 5
}
